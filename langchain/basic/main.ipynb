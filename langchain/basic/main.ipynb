{
 "cells": [
  {
   "cell_type": "code",
   "execution_count": null,
   "metadata": {},
   "outputs": [],
   "source": [
    "from langchain_google_genai.chat_models import ChatGoogleGenerativeAI\n",
    "from langchain_ollama import ChatOllama\n",
    "from langchain_core.prompts import ChatPromptTemplate\n",
    "from langchain_core.output_parsers import StrOutputParser\n",
    "from dotenv import load_dotenv\n",
    "load_dotenv()"
   ]
  },
  {
   "cell_type": "code",
   "execution_count": null,
   "metadata": {},
   "outputs": [],
   "source": [
    "llm = ChatGoogleGenerativeAI(model=\"gemini-2.0-flash\", temperature=0.2)\n",
    "# llm = ChatOllama(model=\"gemma2:2b\")\n",
    "prompt = ChatPromptTemplate([\n",
    "    (\"system\", \n",
    "     \"\"\"You are a funny assistant, your name is {AI_NAME}. \n",
    "     You will be asked questions by users, try to answer them in as funny way as possible.\n",
    "     Before every answer make sure to introduce yourself. In your answers use emojis as much\n",
    "     as possible without making the answer unreadable.\n",
    "     \"\"\"\n",
    "     ),\n",
    "    (\"human\", \"{QUESTION}\")\n",
    "])\n",
    "parser = StrOutputParser()\n",
    "\n",
    "chain = prompt | llm | parser\n",
    "\n",
    "resp = chain.invoke({\"AI_NAME\":\"RUZZY\", \"QUESTION\": \"WHAT IS THE CAPITAL OF FRANCE\"})\n",
    "resp"
   ]
  }
 ],
 "metadata": {
  "kernelspec": {
   "display_name": "wf-practive-env",
   "language": "python",
   "name": "python3"
  },
  "language_info": {
   "codemirror_mode": {
    "name": "ipython",
    "version": 3
   },
   "file_extension": ".py",
   "mimetype": "text/x-python",
   "name": "python",
   "nbconvert_exporter": "python",
   "pygments_lexer": "ipython3",
   "version": "3.12.10"
  },
  "orig_nbformat": 4,
  "vscode": {
   "interpreter": {
    "hash": "9dd8f81c8b7834c9610102fe12c8a0a82ea63ba795508c82142f149d0003ca37"
   }
  }
 },
 "nbformat": 4,
 "nbformat_minor": 2
}
