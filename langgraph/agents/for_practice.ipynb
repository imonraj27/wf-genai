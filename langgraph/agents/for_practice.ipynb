{
 "cells": [
  {
   "cell_type": "code",
   "execution_count": null,
   "metadata": {},
   "outputs": [],
   "source": [
    "import requests\n",
    "from langchain.tools import tool\n",
    "from langgraph.graph import StateGraph, START, END, MessagesState\n",
    "from langgraph.graph.message import add_messages\n",
    "from langgraph.checkpoint.memory import MemorySaver  # optional but helps\n",
    "from langgraph.prebuilt import ToolNode\n",
    "from typing import TypedDict, Annotated, Sequence\n",
    "from langchain_google_genai import ChatGoogleGenerativeAI\n",
    "from langchain_ollama import ChatOllama\n",
    "from langchain_groq import ChatGroq\n",
    "from langchain_core.prompts import ChatPromptTemplate\n",
    "from langchain_core.output_parsers import StrOutputParser\n",
    "from langchain_core.messages import HumanMessage, AIMessage, SystemMessage, BaseMessage\n",
    "from dotenv import load_dotenv\n",
    "\n",
    "load_dotenv()"
   ]
  },
  {
   "cell_type": "code",
   "execution_count": null,
   "metadata": {},
   "outputs": [],
   "source": [
    "## Tools\n",
    "\n",
    "@tool\n",
    "def add(a: int, b: int):\n",
    "    \"\"\"Adds two integer numbers and returns the result\"\"\"\n",
    "    print(f\"Tool ADD : {a} {b}\")\n",
    "    return a + b\n",
    "\n",
    "@tool\n",
    "def multiply(a: int, b: int):\n",
    "    \"\"\"Multiply two intergers and returns the result\"\"\"\n",
    "    print(f\"Tool MULT : {a} {b}\")\n",
    "    return a * b\n",
    "\n",
    "tools = [add, multiply]"
   ]
  },
  {
   "cell_type": "code",
   "execution_count": null,
   "metadata": {},
   "outputs": [],
   "source": [
    "llm = ChatGroq(model=\"openai/gpt-oss-120B\", temperature=0.2).bind_tools(tools)\n",
    "\n",
    "system_prompt = SystemMessage(content= \"\"\"\n",
    "    You are a helpful Math Expert. You will be asked questions in natural language.\n",
    "    Answer them with the tools in hand. Dont use your own intuition for \n",
    "    math calculation. Use the tools only. If the question seems that it can't be answered\n",
    "    using the available tools, clearly mention \"I can't do that\".\n",
    "\"\"\")"
   ]
  },
  {
   "cell_type": "code",
   "execution_count": null,
   "metadata": {},
   "outputs": [],
   "source": [
    "class AgentState(MessagesState):\n",
    "    pass"
   ]
  },
  {
   "cell_type": "code",
   "execution_count": null,
   "metadata": {},
   "outputs": [],
   "source": [
    "def llm_node(state: AgentState) -> AgentState:\n",
    "    resp = llm.invoke([system_prompt] + state[\"messages\"])\n",
    "    return AgentState(messages= [resp])\n",
    "\n",
    "tool_node = ToolNode(tools)"
   ]
  },
  {
   "cell_type": "code",
   "execution_count": null,
   "metadata": {},
   "outputs": [],
   "source": [
    "graph = StateGraph(AgentState)\n",
    "\n",
    "graph.add_node(\"llm\", llm_node)\n",
    "graph.add_node(\"tools\", tool_node)\n",
    "\n",
    "graph.add_edge(START, \"llm\")\n",
    "graph.add_conditional_edges(\n",
    "    \"llm\", \n",
    "    lambda state: \"tools_edge\" if state[\"messages\"][-1].tool_calls else \"end_edge\", \n",
    "    {\n",
    "        \"tools_edge\": \"tools\",\n",
    "        \"end_edge\": END\n",
    "    }\n",
    ")\n",
    "graph.add_edge(\"tools\", \"llm\")\n",
    "\n",
    "agent = graph.compile()"
   ]
  },
  {
   "cell_type": "code",
   "execution_count": null,
   "metadata": {},
   "outputs": [],
   "source": [
    "from IPython.display import Image, display\n",
    "display(Image(agent.get_graph().draw_mermaid_png()))"
   ]
  },
  {
   "cell_type": "code",
   "execution_count": null,
   "metadata": {},
   "outputs": [],
   "source": [
    "while True:\n",
    "    question = input(\"Ask your math question: \")\n",
    "    print(\"Query: \" + question)\n",
    "    result = agent.invoke(AgentState(\n",
    "        messages=[HumanMessage(content=question)]))\n",
    "    final_message = result[\"messages\"][-1].content\n",
    "    print(\"\\nFinal Answer:\", final_message)"
   ]
  }
 ],
 "metadata": {
  "kernelspec": {
   "display_name": "wf-practive-env",
   "language": "python",
   "name": "python3"
  },
  "language_info": {
   "codemirror_mode": {
    "name": "ipython",
    "version": 3
   },
   "file_extension": ".py",
   "mimetype": "text/x-python",
   "name": "python",
   "nbconvert_exporter": "python",
   "pygments_lexer": "ipython3",
   "version": "3.12.10"
  },
  "orig_nbformat": 4,
  "vscode": {
   "interpreter": {
    "hash": "9dd8f81c8b7834c9610102fe12c8a0a82ea63ba795508c82142f149d0003ca37"
   }
  }
 },
 "nbformat": 4,
 "nbformat_minor": 2
}
