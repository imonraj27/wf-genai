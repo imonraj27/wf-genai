{
 "cells": [
  {
   "cell_type": "code",
   "execution_count": null,
   "metadata": {},
   "outputs": [],
   "source": [
    "from langgraph.graph import StateGraph, START, END\n",
    "from typing import TypedDict\n",
    "from langchain_google_genai import ChatGoogleGenerativeAI\n",
    "from langchain_core.prompts import ChatPromptTemplate\n",
    "from langchain_core.output_parsers import StrOutputParser\n",
    "from dotenv import load_dotenv\n",
    "\n",
    "load_dotenv()"
   ]
  },
  {
   "cell_type": "code",
   "execution_count": null,
   "metadata": {},
   "outputs": [],
   "source": [
    "class CustomAgentState(TypedDict):\n",
    "    name: str\n",
    "    age: int\n",
    "    person: str\n"
   ]
  },
  {
   "cell_type": "code",
   "execution_count": null,
   "metadata": {},
   "outputs": [],
   "source": [
    "prompt_to_know_gender = ChatPromptTemplate.from_template(\n",
    "    \"\"\"\n",
    "    You are a helpful assistant that determines the most common gender associated with a given first name.\n",
    "\n",
    "    Task:\n",
    "    - Read the name carefully.\n",
    "    - Reply with only one uppercase letter:\n",
    "      - \"M\" if the name is usually male.\n",
    "      - \"F\" if the name is usually female.\n",
    "      \n",
    "    Name: {NAME}\n",
    "    \"\"\"\n",
    ")\n",
    "\n",
    "llm = ChatGoogleGenerativeAI(model=\"gemini-2.0-flash\", temperature=0.2)\n",
    "\n",
    "parser = StrOutputParser()\n",
    "\n",
    "chain = prompt_to_know_gender | llm | parser\n",
    "\n",
    "def get_gender(name):\n",
    "    return chain.invoke({\"NAME\": name})"
   ]
  },
  {
   "cell_type": "code",
   "execution_count": null,
   "metadata": {},
   "outputs": [],
   "source": [
    "def gender_routing(state: CustomAgentState) -> str:\n",
    "    gender_decided = get_gender(state[\"name\"])\n",
    "    print(f\"Gender is decided for name `{state['name']}` -> `{gender_decided}`\")\n",
    "    \n",
    "    if (gender_decided==\"M\"):\n",
    "        return \"male_edge\"\n",
    "    else:\n",
    "        return \"female_edge\"\n",
    "    \n",
    "\n",
    "def handle_male(state: CustomAgentState) -> CustomAgentState:\n",
    "    the_person_is = \"Man\" if state[\"age\"] > 20 else \"Boy\"\n",
    "    print(f\"The person with name: {state['name']} is a {the_person_is}\")\n",
    "    state[\"person\"] = the_person_is\n",
    "    return state\n",
    "\n",
    "\n",
    "def handle_female(state: CustomAgentState) -> CustomAgentState:\n",
    "    the_person_is = \"Woman\" if state[\"age\"] > 20 else \"Girl\"\n",
    "    print(f\"The person with name: {state['name']} is a {the_person_is}\")\n",
    "    state[\"person\"] = the_person_is\n",
    "    return state\n"
   ]
  },
  {
   "cell_type": "code",
   "execution_count": null,
   "metadata": {},
   "outputs": [],
   "source": [
    "graph = StateGraph(CustomAgentState)\n",
    "\n",
    "graph.add_node(\"gender_decider\", lambda state:state)\n",
    "graph.add_node(\"handle_male\", handle_male)\n",
    "graph.add_node(\"handle_female\", handle_female)\n",
    "\n",
    "graph.add_edge(START, \"gender_decider\")\n",
    "graph.add_conditional_edges(\n",
    "    \"gender_decider\",\n",
    "    gender_routing,\n",
    "    {\n",
    "        \"male_edge\": \"handle_male\",\n",
    "        \"female_edge\": \"handle_female\"\n",
    "    }\n",
    ")\n",
    "graph.add_edge(\"handle_male\", END)\n",
    "graph.add_edge(\"handle_female\", END)\n",
    "\n",
    "app = graph.compile()"
   ]
  },
  {
   "cell_type": "code",
   "execution_count": 10,
   "metadata": {},
   "outputs": [
    {
     "data": {
      "image/png": "[encoded data removed]",
      "text/plain": [
       "<IPython.core.display.Image object>"
      ]
     },
     "metadata": {},
     "output_type": "display_data"
    }
   ],
   "source": [
    "from IPython.display import Image, display\n",
    "display(Image(app.get_graph().draw_mermaid_png()))"
   ]
  },
  {
   "cell_type": "code",
   "execution_count": null,
   "metadata": {},
   "outputs": [],
   "source": [
    "res = app.invoke(CustomAgentState(name=\"Alice\", age=16, person=\"\"))\n",
    "res"
   ]
  }
 ],
 "metadata": {
  "kernelspec": {
   "display_name": "wf-practive-env",
   "language": "python",
   "name": "python3"
  },
  "language_info": {
   "codemirror_mode": {
    "name": "ipython",
    "version": 3
   },
   "file_extension": ".py",
   "mimetype": "text/x-python",
   "name": "python",
   "nbconvert_exporter": "python",
   "pygments_lexer": "ipython3",
   "version": "3.12.10"
  },
  "orig_nbformat": 4,
  "vscode": {
   "interpreter": {
    "hash": "9dd8f81c8b7834c9610102fe12c8a0a82ea63ba795508c82142f149d0003ca37"
   }
  }
 },
 "nbformat": 4,
 "nbformat_minor": 2
}
